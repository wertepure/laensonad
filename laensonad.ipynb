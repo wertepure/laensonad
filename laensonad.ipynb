{
 "cells": [
  {
   "cell_type": "code",
   "execution_count": 1,
   "id": "c403b189",
   "metadata": {},
   "outputs": [
    {
     "name": "stderr",
     "output_type": "stream",
     "text": [
      "Downloading GitHub repo peeter-t2/digar.txts@HEAD\n",
      "\n"
     ]
    },
    {
     "name": "stdout",
     "output_type": "stream",
     "text": [
      "* checking for file ‘/tmp/Rtmp3yHcPp/remotesc77b69af2eb3/peeter-t2-digar.txts-b87e10a/DESCRIPTION’ ... OK\n",
      "* preparing ‘digar.txts’:\n",
      "* checking DESCRIPTION meta-information ... OK\n",
      "* checking for LF line-endings in source and make files and shell scripts\n",
      "* checking for empty or unneeded directories\n",
      "Omitted ‘LazyData’ from DESCRIPTION\n",
      "* building ‘digar.txts_0.0.0.9100.tar.gz’\n",
      "Warning in sprintf(gettext(fmt, domain = domain), ...) :\n",
      "  one argument not used by format 'invalid uid value replaced by that for user 'nobody''\n",
      "Warning: invalid uid value replaced by that for user 'nobody'\n",
      "\n"
     ]
    }
   ],
   "source": [
    "# Start with a custom working directory\n",
    "remotes::install_github(\"peeter-t2/digar.txts\",lib=\"R_pckg/\",upgrade=\"never\")"
   ]
  },
  {
   "cell_type": "code",
   "execution_count": 2,
   "id": "00958e5b",
   "metadata": {},
   "outputs": [
    {
     "name": "stderr",
     "output_type": "stream",
     "text": [
      "Loading required package: data.table\n",
      "\n",
      "── \u001b[1mAttaching packages\u001b[22m ─────────────────────────────────────── tidyverse 1.3.1 ──\n",
      "\n",
      "\u001b[32m✔\u001b[39m \u001b[34mggplot2\u001b[39m 3.3.5     \u001b[32m✔\u001b[39m \u001b[34mpurrr  \u001b[39m 0.3.4\n",
      "\u001b[32m✔\u001b[39m \u001b[34mtibble \u001b[39m 3.1.6     \u001b[32m✔\u001b[39m \u001b[34mdplyr  \u001b[39m 1.0.8\n",
      "\u001b[32m✔\u001b[39m \u001b[34mtidyr  \u001b[39m 1.2.0     \u001b[32m✔\u001b[39m \u001b[34mstringr\u001b[39m 1.4.0\n",
      "\u001b[32m✔\u001b[39m \u001b[34mreadr  \u001b[39m 2.1.2     \u001b[32m✔\u001b[39m \u001b[34mforcats\u001b[39m 0.5.1\n",
      "\n",
      "── \u001b[1mConflicts\u001b[22m ────────────────────────────────────────── tidyverse_conflicts() ──\n",
      "\u001b[31m✖\u001b[39m \u001b[34mdplyr\u001b[39m::\u001b[32mbetween()\u001b[39m   masks \u001b[34mdata.table\u001b[39m::between()\n",
      "\u001b[31m✖\u001b[39m \u001b[34mdplyr\u001b[39m::\u001b[32mfilter()\u001b[39m    masks \u001b[34mstats\u001b[39m::filter()\n",
      "\u001b[31m✖\u001b[39m \u001b[34mdplyr\u001b[39m::\u001b[32mfirst()\u001b[39m     masks \u001b[34mdata.table\u001b[39m::first()\n",
      "\u001b[31m✖\u001b[39m \u001b[34mdplyr\u001b[39m::\u001b[32mlag()\u001b[39m       masks \u001b[34mstats\u001b[39m::lag()\n",
      "\u001b[31m✖\u001b[39m \u001b[34mdplyr\u001b[39m::\u001b[32mlast()\u001b[39m      masks \u001b[34mdata.table\u001b[39m::last()\n",
      "\u001b[31m✖\u001b[39m \u001b[34mpurrr\u001b[39m::\u001b[32mtranspose()\u001b[39m masks \u001b[34mdata.table\u001b[39m::transpose()\n",
      "\n"
     ]
    }
   ],
   "source": [
    "library(digar.txts,lib.loc=\"R_pckg/\")\n",
    "library(tidyverse)"
   ]
  },
  {
   "cell_type": "code",
   "execution_count": 6,
   "id": "910293d6",
   "metadata": {},
   "outputs": [
    {
     "name": "stdout",
     "output_type": "stream",
     "text": [
      "[1] \"Issue metadata read\"\n"
     ]
    }
   ],
   "source": [
    "all_issues <- get_digar_overview() #saame kõik olemasolevad lehed\n",
    "subset_ek <- all_issues %>%\n",
    "            filter(language==\"Estonian\")"
   ]
  },
  {
   "cell_type": "code",
   "execution_count": 8,
   "id": "07d3af96",
   "metadata": {},
   "outputs": [
    {
     "name": "stdout",
     "output_type": "stream",
     "text": [
      "[1] TRUE\n",
      "[1] TRUE\n",
      "[1] TRUE\n",
      "[1] TRUE\n",
      "[1] TRUE\n"
     ]
    }
   ],
   "source": [
    "#regulaaravaldise katsetused\n",
    "fraasid <- c(\"džemper\", \"sviiter\", \"see olema džemper ja see sviiter\", \"see olema džemper vist\", \"see olema sviiter vist\")\n",
    "for (fraas in fraasid) {\n",
    "    print(grepl(\"\\\\bdžemper\\\\b|\\\\bsviiter\\\\b\", fraas))\n",
    "}"
   ]
  },
  {
   "cell_type": "markdown",
   "id": "23163707",
   "metadata": {},
   "source": [
    "## Failid\n",
    "Lisage failinimesse, mis keelest ta on (eesti, vene, saksa või inglise), nt kampsun_eesti.txt, pullover_inglise.txt, sviiter_vene.txt"
   ]
  },
  {
   "cell_type": "code",
   "execution_count": 4,
   "id": "7610529c",
   "metadata": {},
   "outputs": [],
   "source": [
    "do_subset_search(searchterm=\"\\\\bseltskond\\\\b\", searchfile=\"seltskond_eesti.txt\",subset_ek, searchtype=\"lemmas\") #otsime fraasi esinemisi"
   ]
  },
  {
   "cell_type": "code",
   "execution_count": 5,
   "id": "b17e51e4",
   "metadata": {},
   "outputs": [],
   "source": [
    "do_subset_search(searchterm=\"\\\\bgäng\\\\b\", searchfile=\"gäng_inglise.txt\",subset_ek, searchtype=\"lemmas\") #otsime fraasi esinemisi"
   ]
  },
  {
   "cell_type": "code",
   "execution_count": 6,
   "id": "7373f110",
   "metadata": {},
   "outputs": [],
   "source": [
    "do_subset_search(searchterm=\"\\\\bkamp\\\\b\", searchfile=\"kamp_vene.txt\",subset_ek, searchtype=\"lemmas\") #otsime fraasi esinemisi"
   ]
  },
  {
   "cell_type": "code",
   "execution_count": 7,
   "id": "c669d42e",
   "metadata": {},
   "outputs": [],
   "source": [
    "do_subset_search(searchterm=\"\\\\bbande\\\\b\", searchfile=\"bande_saksa.txt\",subset_ek, searchtype=\"lemmas\") #otsime fraasi esinemisi"
   ]
  },
  {
   "cell_type": "code",
   "execution_count": 9,
   "id": "ca484b33",
   "metadata": {},
   "outputs": [],
   "source": [
    "do_subset_search(searchterm=\"\\\\bkampsun\\\\b\", searchfile=\"kampsun_eesti.txt\",subset_ek, searchtype=\"lemmas\")\n",
    "do_subset_search(searchterm=\"\\\\bpullover\\\\b\", searchfile=\"pullover_inglise.txt\",subset_ek, searchtype=\"lemmas\")\n",
    "do_subset_search(searchterm=\"\\\\bdžemper\\\\b|\\\\bsviiter\\\\b\", searchfile=\"džemper_sviiter_vene.txt\",subset_ek, searchtype=\"lemmas\")"
   ]
  },
  {
   "cell_type": "code",
   "execution_count": 10,
   "id": "e333c266",
   "metadata": {},
   "outputs": [],
   "source": [
    "do_subset_search(searchterm=\"\\\\bjumestus\\\\b\", searchfile=\"jumestus_eesti.txt\",subset_ek, searchtype=\"lemmas\")\n",
    "do_subset_search(searchterm=\"\\\\bmeik\\\\b\", searchfile=\"meik_inglise.txt\",subset_ek, searchtype=\"lemmas\")\n",
    "do_subset_search(searchterm=\"\\\\bgrimm\\\\b\", searchfile=\"grimm_vene.txt\",subset_ek, searchtype=\"lemmas\")\n",
    "do_subset_search(searchterm=\"\\\\bmink\\\\b\", searchfile=\"mink_saksa.txt\",subset_ek, searchtype=\"lemmas\") "
   ]
  },
  {
   "cell_type": "code",
   "execution_count": 11,
   "id": "33215c2a",
   "metadata": {},
   "outputs": [],
   "source": [
    "do_subset_search(searchterm=\"\\\\berikeel\\\\b\", searchfile=\"erikeel_eesti.txt\",subset_ek, searchtype=\"lemmas\")\n",
    "do_subset_search(searchterm=\"\\\\bsläng\\\\b\", searchfile=\"slang_inglise.txt\",subset_ek, searchtype=\"lemmas\")\n",
    "do_subset_search(searchterm=\"\\\\bžargoon\\\\b\", searchfile=\"žargoon_saksa.txt\",subset_ek, searchtype=\"lemmas\")"
   ]
  },
  {
   "cell_type": "code",
   "execution_count": 12,
   "id": "f4506ee2",
   "metadata": {},
   "outputs": [],
   "source": [
    "do_subset_search(searchterm=\"\\\\btüdruksõber\\\\b\", searchfile=\"tydruksober_eesti.txt\",subset_ek, searchtype=\"lemmas\")\n",
    "do_subset_search(searchterm=\"\\\\bgirlfriend\\\\b\", searchfile=\"girlfriend_inglise.txt\",subset_ek, searchtype=\"lemmas\")\n",
    "do_subset_search(searchterm=\"\\\\bpruut\\\\b\", searchfile=\"pruut_saksa.txt\",subset_ek, searchtype=\"lemmas\")"
   ]
  },
  {
   "cell_type": "code",
   "execution_count": 13,
   "id": "e65e68a6",
   "metadata": {},
   "outputs": [],
   "source": [
    "do_subset_search(searchterm=\"\\\\btööriie\\\\b\", searchfile=\"tooriie_eesti.txt\",subset_ek, searchtype=\"lemmas\")\n",
    "do_subset_search(searchterm=\"\\\\bmunder\\\\b\", searchfile=\"munder_vene.txt\",subset_ek, searchtype=\"lemmas\")\n",
    "do_subset_search(searchterm=\"\\\\bunivorm\\\\b\", searchfile=\"univorm_saksa.txt\",subset_ek, searchtype=\"lemmas\")"
   ]
  },
  {
   "cell_type": "code",
   "execution_count": 14,
   "id": "0867c28d",
   "metadata": {},
   "outputs": [],
   "source": [
    "do_subset_search(searchterm=\"\\\\bpätt\\\\b\", searchfile=\"patt_eesti.txt\",subset_ek, searchtype=\"lemmas\")\n",
    "do_subset_search(searchterm=\"\\\\bsuli\\\\b|\\\\bmasuurikas\\\\b\", searchfile=\"suli_masuurikas_vene.txt\",subset_ek, searchtype=\"lemmas\")\n",
    "do_subset_search(searchterm=\"\\\\bkelm\\\\b\", searchfile=\"kelm_saksa.txt\",subset_ek, searchtype=\"lemmas\")"
   ]
  },
  {
   "cell_type": "code",
   "execution_count": 15,
   "id": "56d6bcd6",
   "metadata": {},
   "outputs": [],
   "source": [
    "do_subset_search(searchterm=\"\\\\bvale\\\\b\", searchfile=\"vale_eesti.txt\",subset_ek, searchtype=\"lemmas\")\n",
    "do_subset_search(searchterm=\"\\\\bfeik\\\\b\", searchfile=\"feik_inglise.txt\",subset_ek, searchtype=\"lemmas\")\n",
    "do_subset_search(searchterm=\"\\\\bvõlts\\\\b\", searchfile=\"volts_saksa.txt\",subset_ek, searchtype=\"lemmas\")"
   ]
  },
  {
   "cell_type": "code",
   "execution_count": 16,
   "id": "1cf1f306",
   "metadata": {},
   "outputs": [],
   "source": [
    "do_subset_search(searchterm=\"\\\\bkeedis\\\\b\", searchfile=\"keedis_eesti.txt\",subset_ek, searchtype=\"lemmas\")\n",
    "do_subset_search(searchterm=\"\\\\bdžemm\\\\b\", searchfile=\"džemm_vene.txt\",subset_ek, searchtype=\"lemmas\")\n",
    "do_subset_search(searchterm=\"\\\\bmoos\\\\b|\\\\bkonfitüür\\\\b\", searchfile=\"moos_konfityyr_saksa.txt\",subset_ek, searchtype=\"lemmas\")"
   ]
  },
  {
   "cell_type": "code",
   "execution_count": 17,
   "id": "1401bec3",
   "metadata": {},
   "outputs": [],
   "source": [
    "do_subset_search(searchterm=\"\\\\bjutustus\\\\b\", searchfile=\"jutustus_eesti.txt\",subset_ek, searchtype=\"lemmas\")\n",
    "do_subset_search(searchterm=\"\\\\bstoori\\\\b\", searchfile=\"stoori_inglise.txt\",subset_ek, searchtype=\"lemmas\")\n",
    "do_subset_search(searchterm=\"\\\\bpajatus\\\\b\", searchfile=\"pajatus_vene.txt\",subset_ek, searchtype=\"lemmas\")\n",
    "do_subset_search(searchterm=\"\\\\bsüžee\\\\b\", searchfile=\"syžee_saksa.txt\",subset_ek, searchtype=\"lemmas\")"
   ]
  },
  {
   "cell_type": "code",
   "execution_count": 7,
   "id": "76805ddf",
   "metadata": {},
   "outputs": [],
   "source": [
    "do_subset_search(searchterm=\"\\\\bjutustus\\\\b\", searchfile=\"jutustus_eesti.txt\",subset_ek, searchtype=\"lemmas\")\n",
    "do_subset_search(searchterm=\"\\\\bjoogikoht\\\\b|\\\\bsöögikoht\\\\b\", searchfile=\"joogikoht_soogikoht_eesti.txt\",subset_ek, searchtype=\"lemmas\")"
   ]
  },
  {
   "cell_type": "code",
   "execution_count": 18,
   "id": "409835ae",
   "metadata": {},
   "outputs": [],
   "source": [
    "do_subset_search(searchterm=\"\\\\bvanaema\\\\b\", searchfile=\"vanaema_eesti.txt\",subset_ek, searchtype=\"lemmas\")\n",
    "do_subset_search(searchterm=\"\\\\bbabuška\\\\b\", searchfile=\"babuška_vene.txt\",subset_ek, searchtype=\"lemmas\")\n",
    "do_subset_search(searchterm=\"\\\\bmemm\\\\b\", searchfile=\"memm_saksa.txt\",subset_ek, searchtype=\"lemmas\")"
   ]
  },
  {
   "cell_type": "code",
   "execution_count": 3,
   "id": "51b0092e",
   "metadata": {},
   "outputs": [],
   "source": [
    "do_subset_search(searchterm=\"\\\\bjoogikoht\\\\b|\\\\bsöögikoht\\\\b\", searchfile=\"joogikoht_soogikoht_eesti.txt\",subset_ek, searchtype=\"lemmas\")\n",
    "do_subset_search(searchterm=\"\\\\bbaar\\\\b|\\\\bpubi\\\\b\", searchfile=\"baar_pubi_inglise.txt\",subset_ek, searchtype=\"lemmas\")\n",
    "do_subset_search(searchterm=\"\\\\bkõrts\\\\b\", searchfile=\"korts_vene.txt\",subset_ek, searchtype=\"lemmas\")\n",
    "do_subset_search(searchterm=\"\\\\btavern\\\\b|\\\\blokaal\\\\b\", searchfile=\"tavern_lokaal_saksa.txt\",subset_ek, searchtype=\"lemmas\")"
   ]
  },
  {
   "cell_type": "code",
   "execution_count": 4,
   "id": "a14013b2",
   "metadata": {},
   "outputs": [],
   "source": [
    "do_subset_search(searchterm=\"\\\\bajaleht\\\\b\", searchfile=\"ajaleht_eesti.txt\",subset_ek, searchtype=\"lemmas\")\n",
    "do_subset_search(searchterm=\"\\\\bžurnaal\\\\b\", searchfile=\"žurnaal_vene.txt\",subset_ek, searchtype=\"lemmas\")\n",
    "do_subset_search(searchterm=\"\\\\b[sz]eitung\\\\b\", searchfile=\"seitung_saksa.txt\",subset_ek, searchtype=\"lemmas\")"
   ]
  },
  {
   "cell_type": "markdown",
   "id": "1b9f658f",
   "metadata": {},
   "source": [
    "## Iga aasta kohta sõnade arv, kui wordcounts_per_year_est olemas ss ära jooksuta"
   ]
  },
  {
   "cell_type": "code",
   "execution_count": 6,
   "id": "77560fd2",
   "metadata": {},
   "outputs": [
    {
     "name": "stderr",
     "output_type": "stream",
     "text": [
      "Warning message in data.table::fread(cmd = x, fill = T):\n",
      "“File '/tmp/RtmpaL7kcT/file177a50c69dfa' has size 0. Returning a NULL data.table.”\n",
      "Warning message in data.table::fread(cmd = x, fill = T):\n",
      "“File '/tmp/RtmpaL7kcT/file177a3594ca9f' has size 0. Returning a NULL data.table.”\n",
      "Warning message in data.table::fread(cmd = x, fill = T):\n",
      "“File '/tmp/RtmpaL7kcT/file177a4adec2c1' has size 0. Returning a NULL data.table.”\n",
      "Warning message in data.table::fread(cmd = x, fill = T):\n",
      "“File '/tmp/RtmpaL7kcT/file177a449800e2' has size 0. Returning a NULL data.table.”\n",
      "Warning message in data.table::fread(cmd = x, fill = T):\n",
      "“File '/tmp/RtmpaL7kcT/file177a6783a956' has size 0. Returning a NULL data.table.”\n",
      "Warning message in data.table::fread(cmd = x, fill = T):\n",
      "“File '/tmp/RtmpaL7kcT/file177a5be729ba' has size 0. Returning a NULL data.table.”\n",
      "Warning message in data.table::fread(cmd = x, fill = T):\n",
      "“File '/tmp/RtmpaL7kcT/file177a1dabf9f4' has size 0. Returning a NULL data.table.”\n",
      "Warning message in data.table::fread(cmd = x, fill = T):\n",
      "“File '/tmp/RtmpaL7kcT/file177a194bccd5' has size 0. Returning a NULL data.table.”\n",
      "Warning message in data.table::fread(cmd = x, fill = T):\n",
      "“File '/tmp/RtmpaL7kcT/file177a4bfb564f' has size 0. Returning a NULL data.table.”\n",
      "Warning message in data.table::fread(cmd = x, fill = T):\n",
      "“File '/tmp/RtmpaL7kcT/file177a617511e7' has size 0. Returning a NULL data.table.”\n",
      "Warning message in data.table::fread(cmd = x, fill = T):\n",
      "“File '/tmp/RtmpaL7kcT/file177a25c2c5ae' has size 0. Returning a NULL data.table.”\n",
      "Warning message in data.table::fread(cmd = x, fill = T):\n",
      "“File '/tmp/RtmpaL7kcT/file177a382c366c' has size 0. Returning a NULL data.table.”\n",
      "Warning message in data.table::fread(cmd = x, fill = T):\n",
      "“File '/tmp/RtmpaL7kcT/file177a5bafb4fb' has size 0. Returning a NULL data.table.”\n",
      "Warning message in data.table::fread(cmd = x, fill = T):\n",
      "“File '/tmp/RtmpaL7kcT/file177a5a08e4d' has size 0. Returning a NULL data.table.”\n",
      "Warning message in data.table::fread(cmd = x, fill = T):\n",
      "“File '/tmp/RtmpaL7kcT/file177a286d97b9' has size 0. Returning a NULL data.table.”\n",
      "Warning message in data.table::fread(cmd = x, fill = T):\n",
      "“File '/tmp/RtmpaL7kcT/file177a7568790d' has size 0. Returning a NULL data.table.”\n",
      "Warning message in data.table::fread(cmd = x, fill = T):\n",
      "“File '/tmp/RtmpaL7kcT/file177a6ec6b970' has size 0. Returning a NULL data.table.”\n",
      "Warning message in data.table::fread(cmd = x, fill = T):\n",
      "“File '/tmp/RtmpaL7kcT/file177a67f80abb' has size 0. Returning a NULL data.table.”\n",
      "Warning message in data.table::fread(cmd = x, fill = T):\n",
      "“File '/tmp/RtmpaL7kcT/file177a94c9fa7' has size 0. Returning a NULL data.table.”\n",
      "Warning message in data.table::fread(cmd = x, fill = T):\n",
      "“File '/tmp/RtmpaL7kcT/file177a413c852e' has size 0. Returning a NULL data.table.”\n",
      "Warning message in data.table::fread(cmd = x, fill = T):\n",
      "“File '/tmp/RtmpaL7kcT/file177a1fa55fc1' has size 0. Returning a NULL data.table.”\n",
      "Warning message in data.table::fread(cmd = x, fill = T):\n",
      "“File '/tmp/RtmpaL7kcT/file177a58eb5f38' has size 0. Returning a NULL data.table.”\n",
      "Warning message in data.table::fread(cmd = x, fill = T):\n",
      "“File '/tmp/RtmpaL7kcT/file177a267789dc' has size 0. Returning a NULL data.table.”\n",
      "Warning message in data.table::fread(cmd = x, fill = T):\n",
      "“File '/tmp/RtmpaL7kcT/file177a7c8a377' has size 0. Returning a NULL data.table.”\n",
      "Warning message in data.table::fread(cmd = x, fill = T):\n",
      "“File '/tmp/RtmpaL7kcT/file177a5d8a2c8d' has size 0. Returning a NULL data.table.”\n",
      "Warning message in data.table::fread(cmd = x, fill = T):\n",
      "“File '/tmp/RtmpaL7kcT/file177a54a7940' has size 0. Returning a NULL data.table.”\n",
      "Warning message in data.table::fread(cmd = x, fill = T):\n",
      "“File '/tmp/RtmpaL7kcT/file177a2f53fd86' has size 0. Returning a NULL data.table.”\n",
      "Warning message in data.table::fread(cmd = x, fill = T):\n",
      "“File '/tmp/RtmpaL7kcT/file177afe92095' has size 0. Returning a NULL data.table.”\n",
      "Warning message in data.table::fread(cmd = x, fill = T):\n",
      "“File '/tmp/RtmpaL7kcT/file177a23fcd40' has size 0. Returning a NULL data.table.”\n",
      "Warning message in data.table::fread(cmd = x, fill = T):\n",
      "“File '/tmp/RtmpaL7kcT/file177a2bd62a5d' has size 0. Returning a NULL data.table.”\n",
      "Warning message in data.table::fread(cmd = x, fill = T):\n",
      "“File '/tmp/RtmpaL7kcT/file177a41df1a5b' has size 0. Returning a NULL data.table.”\n",
      "Warning message in data.table::fread(cmd = x, fill = T):\n",
      "“File '/tmp/RtmpaL7kcT/file177a524cf3ff' has size 0. Returning a NULL data.table.”\n",
      "Warning message in data.table::fread(cmd = x, fill = T):\n",
      "“File '/tmp/RtmpaL7kcT/file177a5d2e7a81' has size 0. Returning a NULL data.table.”\n",
      "Warning message in data.table::fread(cmd = x, fill = T):\n",
      "“File '/tmp/RtmpaL7kcT/file177a1c18615d' has size 0. Returning a NULL data.table.”\n",
      "Warning message in data.table::fread(cmd = x, fill = T):\n",
      "“File '/tmp/RtmpaL7kcT/file177ae378dfb' has size 0. Returning a NULL data.table.”\n",
      "Warning message in data.table::fread(cmd = x, fill = T):\n",
      "“File '/tmp/RtmpaL7kcT/file177a713ef94e' has size 0. Returning a NULL data.table.”\n",
      "Warning message in data.table::fread(cmd = x, fill = T):\n",
      "“File '/tmp/RtmpaL7kcT/file177afa6ac84' has size 0. Returning a NULL data.table.”\n",
      "Warning message in data.table::fread(cmd = x, fill = T):\n",
      "“File '/tmp/RtmpaL7kcT/file177a60dc6473' has size 0. Returning a NULL data.table.”\n",
      "Warning message in data.table::fread(cmd = x, fill = T):\n",
      "“File '/tmp/RtmpaL7kcT/file177a1ca4830d' has size 0. Returning a NULL data.table.”\n",
      "Warning message in data.table::fread(cmd = x, fill = T):\n",
      "“File '/tmp/RtmpaL7kcT/file177a4d32289e' has size 0. Returning a NULL data.table.”\n",
      "Warning message in data.table::fread(cmd = x, fill = T):\n",
      "“File '/tmp/RtmpaL7kcT/file177a2ef011f9' has size 0. Returning a NULL data.table.”\n",
      "Warning message in data.table::fread(cmd = x, fill = T):\n",
      "“File '/tmp/RtmpaL7kcT/file177a3e39d528' has size 0. Returning a NULL data.table.”\n",
      "Warning message in data.table::fread(cmd = x, fill = T):\n",
      "“File '/tmp/RtmpaL7kcT/file177a7f6abf0f' has size 0. Returning a NULL data.table.”\n",
      "Warning message in data.table::fread(cmd = x, fill = T):\n",
      "“File '/tmp/RtmpaL7kcT/file177a358a903e' has size 0. Returning a NULL data.table.”\n",
      "Warning message in data.table::fread(cmd = x, fill = T):\n",
      "“File '/tmp/RtmpaL7kcT/file177a125cd933' has size 0. Returning a NULL data.table.”\n",
      "Warning message in data.table::fread(cmd = x, fill = T):\n",
      "“File '/tmp/RtmpaL7kcT/file177a738d49a8' has size 0. Returning a NULL data.table.”\n",
      "Warning message in data.table::fread(cmd = x, fill = T):\n",
      "“File '/tmp/RtmpaL7kcT/file177a2bcc92c8' has size 0. Returning a NULL data.table.”\n",
      "Warning message in data.table::fread(cmd = x, fill = T):\n",
      "“File '/tmp/RtmpaL7kcT/file177a21912d44' has size 0. Returning a NULL data.table.”\n",
      "Warning message in data.table::fread(cmd = x, fill = T):\n",
      "“File '/tmp/RtmpaL7kcT/file177a1d0bb7f8' has size 0. Returning a NULL data.table.”\n",
      "Warning message in data.table::fread(cmd = x, fill = T):\n",
      "“File '/tmp/RtmpaL7kcT/file177a6300e06' has size 0. Returning a NULL data.table.”\n",
      "Warning message in data.table::fread(cmd = x, fill = T):\n",
      "“File '/tmp/RtmpaL7kcT/file177a7fece6fc' has size 0. Returning a NULL data.table.”\n",
      "Warning message in data.table::fread(cmd = x, fill = T):\n",
      "“File '/tmp/RtmpaL7kcT/file177a490a0459' has size 0. Returning a NULL data.table.”\n",
      "Warning message in data.table::fread(cmd = x, fill = T):\n",
      "“File '/tmp/RtmpaL7kcT/file177a4a9edbcc' has size 0. Returning a NULL data.table.”\n",
      "Warning message in data.table::fread(cmd = x, fill = T):\n",
      "“File '/tmp/RtmpaL7kcT/file177a5123f143' has size 0. Returning a NULL data.table.”\n",
      "Warning message in data.table::fread(cmd = x, fill = T):\n",
      "“File '/tmp/RtmpaL7kcT/file177a45fd2a72' has size 0. Returning a NULL data.table.”\n",
      "Warning message in data.table::fread(cmd = x, fill = T):\n",
      "“File '/tmp/RtmpaL7kcT/file177a7f536111' has size 0. Returning a NULL data.table.”\n",
      "Warning message in data.table::fread(cmd = x, fill = T):\n",
      "“File '/tmp/RtmpaL7kcT/file177a6fbd6783' has size 0. Returning a NULL data.table.”\n",
      "Warning message in data.table::fread(cmd = x, fill = T):\n",
      "“File '/tmp/RtmpaL7kcT/file177a1ec0ce76' has size 0. Returning a NULL data.table.”\n",
      "Warning message in data.table::fread(cmd = x, fill = T):\n",
      "“File '/tmp/RtmpaL7kcT/file177af3d350d' has size 0. Returning a NULL data.table.”\n",
      "Warning message in data.table::fread(cmd = x, fill = T):\n",
      "“File '/tmp/RtmpaL7kcT/file177a599e13c6' has size 0. Returning a NULL data.table.”\n",
      "Warning message in data.table::fread(cmd = x, fill = T):\n",
      "“File '/tmp/RtmpaL7kcT/file177a17f8e3c0' has size 0. Returning a NULL data.table.”\n",
      "Warning message in data.table::fread(cmd = x, fill = T):\n",
      "“File '/tmp/RtmpaL7kcT/file177a380aaedf' has size 0. Returning a NULL data.table.”\n",
      "Warning message in data.table::fread(cmd = x, fill = T):\n",
      "“File '/tmp/RtmpaL7kcT/file177a124697a0' has size 0. Returning a NULL data.table.”\n",
      "Warning message in data.table::fread(cmd = x, fill = T):\n",
      "“File '/tmp/RtmpaL7kcT/file177a2e45a19a' has size 0. Returning a NULL data.table.”\n",
      "Warning message in data.table::fread(cmd = x, fill = T):\n",
      "“File '/tmp/RtmpaL7kcT/file177a6f061a15' has size 0. Returning a NULL data.table.”\n",
      "Warning message in data.table::fread(cmd = x, fill = T):\n",
      "“File '/tmp/RtmpaL7kcT/file177ad150e75' has size 0. Returning a NULL data.table.”\n",
      "Warning message in data.table::fread(cmd = x, fill = T):\n",
      "“File '/tmp/RtmpaL7kcT/file177a74e99879' has size 0. Returning a NULL data.table.”\n",
      "Warning message in data.table::fread(cmd = x, fill = T):\n",
      "“File '/tmp/RtmpaL7kcT/file177a5054df48' has size 0. Returning a NULL data.table.”\n",
      "Warning message in data.table::fread(cmd = x, fill = T):\n",
      "“File '/tmp/RtmpaL7kcT/file177a559bbc38' has size 0. Returning a NULL data.table.”\n"
     ]
    }
   ],
   "source": [
    "meta <- get_subset_meta(subset_ek)\n",
    "#siit leiame, mitu sõna iga aasta kohta oli ja salvestame selle muutujasse wordcounts\n",
    "wordcounts <- meta %>% \n",
    "  group_by(year) %>% \n",
    "  summarise(words=sum(LogicalSectionTextWordCount))\n",
    "fwrite(wordcounts,\"wordcounts_per_year_est.tsv\",sep=\"\\t\")"
   ]
  },
  {
   "cell_type": "markdown",
   "id": "9682a666",
   "metadata": {},
   "source": [
    "## Eeltöö"
   ]
  },
  {
   "cell_type": "code",
   "execution_count": 8,
   "id": "cfe5af95",
   "metadata": {},
   "outputs": [],
   "source": [
    "#jutumärkide vahele lisa kausta nimi, kus on alamkaustad iga sõnapaari/kolmiku jaoks\n",
    "alamkaustad <- list.dirs(\"tekstid\", recursive = FALSE)\n",
    "#nendesse salvestatakse sõnade mainimise arv aasta kaupa, et saaks pärast teha kõigi sõnade peale tabeli ja graafiku\n",
    "aastad_kokku_eesti <- c()\n",
    "aastad_kokku_vene <- c()\n",
    "aastad_kokku_saksa <- c()\n",
    "aastad_kokku_inglise <- c()\n",
    "#siin loetakse sisse, mitu sõna kõigi korpuse artiklite peale aasta kaupa oli\n",
    "wordcounts <- read.table(file = 'wordcounts_per_year_est.tsv', sep = '\\t', header = TRUE)\n",
    "#siit saame listi kõikide korpuses olevate aastate kohta\n",
    "koik_aastad <- wordcounts$year"
   ]
  },
  {
   "cell_type": "markdown",
   "id": "694dd2f1",
   "metadata": {},
   "source": [
    "## Tsükkel"
   ]
  },
  {
   "cell_type": "code",
   "execution_count": 9,
   "id": "86b6e371",
   "metadata": {},
   "outputs": [
    {
     "name": "stdout",
     "output_type": "stream",
     "text": [
      "[1] \"tekstid/ajaleht_žurnaal_zeitung\"\n"
     ]
    },
    {
     "name": "stderr",
     "output_type": "stream",
     "text": [
      "Warning message:\n",
      "“Removed 1 row(s) containing missing values (geom_path).”\n",
      "Warning message:\n",
      "“Removed 1 row(s) containing missing values (geom_path).”\n",
      "Warning message:\n",
      "“Removed 1 row(s) containing missing values (geom_path).”\n"
     ]
    },
    {
     "name": "stdout",
     "output_type": "stream",
     "text": [
      "[1] \"tekstid/erikeel_slang_žargoon\"\n"
     ]
    },
    {
     "name": "stderr",
     "output_type": "stream",
     "text": [
      "Warning message:\n",
      "“Removed 1 row(s) containing missing values (geom_path).”\n",
      "Warning message:\n",
      "“Removed 1 row(s) containing missing values (geom_path).”\n",
      "Warning message:\n",
      "“Removed 1 row(s) containing missing values (geom_path).”\n"
     ]
    },
    {
     "name": "stdout",
     "output_type": "stream",
     "text": [
      "[1] \"tekstid/joogikoht_soogikoht_baar_pubi_korts_tavern_lokaal\"\n"
     ]
    },
    {
     "name": "stderr",
     "output_type": "stream",
     "text": [
      "Warning message:\n",
      "“Removed 1 row(s) containing missing values (geom_path).”\n",
      "Warning message:\n",
      "“Removed 1 row(s) containing missing values (geom_path).”\n",
      "Warning message:\n",
      "“Removed 1 row(s) containing missing values (geom_path).”\n",
      "Warning message:\n",
      "“Removed 1 row(s) containing missing values (geom_path).”\n"
     ]
    },
    {
     "name": "stdout",
     "output_type": "stream",
     "text": [
      "[1] \"tekstid/jumestus_meik_grimm_mink\"\n"
     ]
    },
    {
     "name": "stderr",
     "output_type": "stream",
     "text": [
      "Warning message:\n",
      "“Removed 1 row(s) containing missing values (geom_path).”\n",
      "Warning message:\n",
      "“Removed 1 row(s) containing missing values (geom_path).”\n",
      "Warning message:\n",
      "“Removed 1 row(s) containing missing values (geom_path).”\n",
      "Warning message:\n",
      "“Removed 1 row(s) containing missing values (geom_path).”\n"
     ]
    },
    {
     "name": "stdout",
     "output_type": "stream",
     "text": [
      "[1] \"tekstid/jutustus_stoori_pajatus_syžee\"\n"
     ]
    },
    {
     "name": "stderr",
     "output_type": "stream",
     "text": [
      "Warning message:\n",
      "“Removed 1 row(s) containing missing values (geom_path).”\n",
      "Warning message:\n",
      "“Removed 1 row(s) containing missing values (geom_path).”\n",
      "Warning message:\n",
      "“Removed 1 row(s) containing missing values (geom_path).”\n",
      "Warning message:\n",
      "“Removed 1 row(s) containing missing values (geom_path).”\n"
     ]
    },
    {
     "name": "stdout",
     "output_type": "stream",
     "text": [
      "[1] \"tekstid/kampsun_pullover_džemper_sviiter\"\n"
     ]
    },
    {
     "name": "stderr",
     "output_type": "stream",
     "text": [
      "Warning message:\n",
      "“Removed 1 row(s) containing missing values (geom_path).”\n",
      "Warning message:\n",
      "“Removed 1 row(s) containing missing values (geom_path).”\n",
      "Warning message:\n",
      "“Removed 1 row(s) containing missing values (geom_path).”\n"
     ]
    },
    {
     "name": "stdout",
     "output_type": "stream",
     "text": [
      "[1] \"tekstid/keedis_džemm_moos_konfityyr\"\n"
     ]
    },
    {
     "name": "stderr",
     "output_type": "stream",
     "text": [
      "Warning message:\n",
      "“Removed 1 row(s) containing missing values (geom_path).”\n",
      "Warning message:\n",
      "“Removed 1 row(s) containing missing values (geom_path).”\n",
      "Warning message:\n",
      "“Removed 1 row(s) containing missing values (geom_path).”\n"
     ]
    },
    {
     "name": "stdout",
     "output_type": "stream",
     "text": [
      "[1] \"tekstid/patt_suli_masuurikas_kelm\"\n"
     ]
    },
    {
     "name": "stderr",
     "output_type": "stream",
     "text": [
      "Warning message:\n",
      "“Removed 1 row(s) containing missing values (geom_path).”\n",
      "Warning message:\n",
      "“Removed 1 row(s) containing missing values (geom_path).”\n",
      "Warning message:\n",
      "“Removed 1 row(s) containing missing values (geom_path).”\n"
     ]
    },
    {
     "name": "stdout",
     "output_type": "stream",
     "text": [
      "[1] \"tekstid/seltskond_gang_kamp_bande\"\n"
     ]
    },
    {
     "name": "stderr",
     "output_type": "stream",
     "text": [
      "Warning message:\n",
      "“Removed 1 row(s) containing missing values (geom_path).”\n",
      "Warning message:\n",
      "“Removed 1 row(s) containing missing values (geom_path).”\n",
      "Warning message:\n",
      "“Removed 1 row(s) containing missing values (geom_path).”\n",
      "Warning message:\n",
      "“Removed 1 row(s) containing missing values (geom_path).”\n"
     ]
    },
    {
     "name": "stdout",
     "output_type": "stream",
     "text": [
      "[1] \"tekstid/tooriie_munder_univorm\"\n"
     ]
    },
    {
     "name": "stderr",
     "output_type": "stream",
     "text": [
      "Warning message:\n",
      "“Removed 1 row(s) containing missing values (geom_path).”\n",
      "Warning message:\n",
      "“Removed 1 row(s) containing missing values (geom_path).”\n",
      "Warning message:\n",
      "“Removed 1 row(s) containing missing values (geom_path).”\n"
     ]
    },
    {
     "name": "stdout",
     "output_type": "stream",
     "text": [
      "[1] \"tekstid/tydruksober_girlfriend_pruut\"\n"
     ]
    },
    {
     "name": "stderr",
     "output_type": "stream",
     "text": [
      "Warning message:\n",
      "“Removed 1 row(s) containing missing values (geom_path).”\n",
      "Warning message:\n",
      "“Removed 1 row(s) containing missing values (geom_path).”\n",
      "Warning message:\n",
      "“Removed 1 row(s) containing missing values (geom_path).”\n"
     ]
    },
    {
     "name": "stdout",
     "output_type": "stream",
     "text": [
      "[1] \"tekstid/vale_feik_volts\"\n"
     ]
    },
    {
     "name": "stderr",
     "output_type": "stream",
     "text": [
      "Warning message:\n",
      "“Removed 1 row(s) containing missing values (geom_path).”\n",
      "Warning message:\n",
      "“Removed 1 row(s) containing missing values (geom_path).”\n",
      "Warning message:\n",
      "“Removed 1 row(s) containing missing values (geom_path).”\n"
     ]
    },
    {
     "name": "stdout",
     "output_type": "stream",
     "text": [
      "[1] \"tekstid/vanaema_babuška_memm\"\n"
     ]
    },
    {
     "name": "stderr",
     "output_type": "stream",
     "text": [
      "Warning message:\n",
      "“Removed 1 row(s) containing missing values (geom_path).”\n",
      "Warning message:\n",
      "“Removed 1 row(s) containing missing values (geom_path).”\n",
      "Warning message:\n",
      "“Removed 1 row(s) containing missing values (geom_path).”\n"
     ]
    }
   ],
   "source": [
    "for (kaust in alamkaustad) {\n",
    "    if (grepl(\".ipynb_checkpoints\", kaust, fixed = TRUE)) {\n",
    "        next\n",
    "    }\n",
    "    else{\n",
    "        print(kaust)\n",
    "        #listid normaliseeritud tulemuste lisamiseks\n",
    "        eesti <- c() \n",
    "        vene <- c() \n",
    "        saksa <- c() \n",
    "        inglise <- c()\n",
    "        #listid normaliseerimata tulemuste lisamiseks\n",
    "        eesti_tava <- c() \n",
    "        vene_tava <- c() \n",
    "        saksa_tava <- c() \n",
    "        inglise_tava <- c() \n",
    "        files <- list.files(path=kaust, pattern=\"*.txt\", full.names=TRUE, recursive=FALSE)\n",
    "        kaust_nimi <- basename(kaust) #ainult kaustanimi\n",
    "        for (file in files) {\n",
    "            fn <- basename(file)\n",
    "            i <- 0 #teeme loenduri\n",
    "            sonu <- c() #teeme tühja listi\n",
    "            normitud <- c() #uus tühi list\n",
    "            #muudame esinemised tabeliks, kus ühes tulbas on faili id ja teises tekst\n",
    "            tabel <- fread(file,sep =\"\\t\",quote=\"\",fill=TRUE,header=FALSE)[,.(id=V1,txt=V2)]\n",
    "            #paneme id'd eraldi listi\n",
    "            ided <- tabel$id\n",
    "            #võtame id'st aasta välja  \n",
    "            aastad = as.numeric(gsub(\"[a-zöäüõA-ZÕÜÖÄ]+([0-9]{4}).+\", \"\\\\1\", ided))\n",
    "            #lisame selle sõna kõik aastad aastate kollektiivsesse listi vastavalt ta tüübile\n",
    "            if (grepl(\"eesti\", file, fixed = TRUE)) { #kui failinimes on eesti\n",
    "                #salvestame kollektiivsesse listi selle sõna aastad\n",
    "                aastad_kokku_eesti <- append(aastad_kokku_eesti, aastad)\n",
    "                #salvestame sõna nime uude muutujasse, et see pärast tabelis veerunimeks panna\n",
    "                fn_eesti <- str_extract(fn, \".+[^_eesti.txt)]\")\n",
    "                    }\n",
    "            if (grepl(\"vene\", file, fixed = TRUE)) { #kui failinimes on vene\n",
    "                #salvestame kollektiivsesse listi selle sõna aastad\n",
    "                aastad_kokku_vene <- append(aastad_kokku_vene, aastad)\n",
    "                #salvestame sõna nime uude muutujasse, et see pärast tabelis veerunimeks panna\n",
    "                fn_vene <- str_extract(fn, \".+[^_vene.txt)]\")\n",
    "                    }\n",
    "            if (grepl(\"saksa\", file, fixed = TRUE)) { #kui failinimes on saksa\n",
    "                #salvestame kollektiivsesse listi selle sõna aastad\n",
    "                aastad_kokku_saksa <- append(aastad_kokku_saksa, aastad)\n",
    "                #salvestame sõna nime uude muutujasse, et see pärast tabelis veerunimeks panna\n",
    "                fn_saksa <- str_extract(fn, \".+[^_saksa.txt)]\")\n",
    "                    }\n",
    "            if (grepl(\"inglise\", file, fixed = TRUE)) { #kui failinimes on inglise\n",
    "                #salvestame kollektiivsesse listi selle sõna aastad\n",
    "                aastad_kokku_inglise <- append(aastad_kokku_inglise, aastad)\n",
    "                #salvestame sõna nime uude muutujasse, et see pärast tabelis veerunimeks panna\n",
    "                fn_inglise <- str_extract(fn, \".+[^_inglise.txt)]\")\n",
    "                    }\n",
    "            sonu_aastate_kaupa <- table(aastad)\n",
    "            for (aasta in koik_aastad) { #üle kõigi aastate, millest korpuses üldse tekste on\n",
    "                i <- i+1 #lisame loendurile ühe\n",
    "                if (aasta %in% aastad) { #kui sel aastal on ka mainitud meie uuritavat sõna\n",
    "                    mitu_mainimist <- sonu_aastate_kaupa[[as.character(aasta)]] #leiab, mitu korda seda sõna sel aastal mainiti\n",
    "                    sonu_aastas <- wordcounts[[2]][[i]] #mitu sõna ühe aasta tekstide peale kokku oli\n",
    "                    norm <- (mitu_mainimist/sonu_aastas)*10000000 #jagame selle aasta sõna mainimise arvu selle aasta kollektiivsete sõnade arvuga ja korrutame konstandiga, et tulemus oleks loetavam\n",
    "                    if (grepl(\"eesti\", file, fixed = TRUE)) { #kui failinimes on eesti\n",
    "                        eesti <- append(eesti, norm) #lisab selle aasta normitud sõna mainimiste arvu listi\n",
    "                        eesti_tava <- append(eesti_tava, mitu_mainimist) #lisab selle aasta sõna mainimiste arvu listi\n",
    "                    }\n",
    "                    if (grepl(\"vene\", file, fixed = TRUE)) { #kui failinimes on vene\n",
    "                        vene <- append(vene, norm) #lisab selle aasta normitud sõna mainimiste arvu listi\n",
    "                        vene_tava <- append(vene_tava, mitu_mainimist) #lisab selle aasta sõna mainimiste arvu listi\n",
    "                    }\n",
    "                    if (grepl(\"saksa\", file, fixed = TRUE)) { #kui failinimes on saksa\n",
    "                        saksa <- append(saksa, norm) #lisab selle aasta sõna normitud mainimiste arvu listi\n",
    "                        saksa_tava <- append(saksa_tava, mitu_mainimist) #lisab selle aasta sõna mainimiste arvu listi\n",
    "                    }\n",
    "                    if (grepl(\"inglise\", file, fixed = TRUE)) { #kui failinimes on inglise\n",
    "                        inglise <- append(inglise, norm) #lisab selle aasta sõna normitud mainimiste arvu listi\n",
    "                        inglise_tava <- append(inglise_tava, mitu_mainimist) #lisab selle aasta sõna mainimiste arvu listi\n",
    "                    }\n",
    "                }\n",
    "                else { #kui sel aastal polnud ühtegi sõna mainimist\n",
    "                    if (grepl(\"eesti\", file, fixed = TRUE)) { #kui failinimes on eesti\n",
    "                        eesti <- append(eesti, 0) #lisab selle aasta normitud sõna mainimiste arvu listi\n",
    "                        eesti_tava <- append(eesti_tava, 0) #lisab selle aasta sõna mainimiste arvu listi\n",
    "                    }\n",
    "                    if (grepl(\"vene\", file, fixed = TRUE)) { #kui failinimes on vene\n",
    "                        vene <- append(vene, 0) #lisab selle aasta normitud sõna mainimiste arvu listi\n",
    "                        vene_tava <- append(vene_tava, 0) #lisab selle aasta sõna mainimiste arvu listi\n",
    "                    }\n",
    "                    if (grepl(\"saksa\", file, fixed = TRUE)) { #kui failinimes on saksa\n",
    "                        saksa <- append(saksa, 0) #lisab selle aasta sõna normitud mainimiste arvu listi\n",
    "                        saksa_tava <- append(saksa_tava, 0) #lisab selle aasta sõna mainimiste arvu listi\n",
    "                    }\n",
    "                    if (grepl(\"inglise\", file, fixed = TRUE)) { #kui failinimes on inglise\n",
    "                        inglise <- append(inglise, 0) #lisab selle aasta sõna normitud mainimiste arvu listi\n",
    "                        inglise_tava <- append(inglise_tava, 0) #lisab selle aasta sõna mainimiste arvu listi\n",
    "                    }\n",
    "                }\n",
    "            }\n",
    "        }\n",
    "        \n",
    "        #tabeli salvestamiseks csv faili nimi ja kaust\n",
    "        csv_nimi_norm <- paste(kaust_nimi, \"tabel_norm.csv\", sep=\"_\")\n",
    "        csv_nimi_norm_path <- paste(\"tabelid/normitud\", csv_nimi_norm, sep=\"/\")\n",
    "        csv_nimi_tava <- paste(kaust_nimi, \"tabel_tava.csv\", sep=\"_\")\n",
    "        csv_nimi_tava_path <- paste(\"tabelid/tavalised\", csv_nimi_tava, sep=\"/\")\n",
    "        if (length(vene)== 0) { #kui vene laenu ei ole\n",
    "            colors <- c(\"Eesti omasõna\" = \"blue\", \"Saksa laen\" = \"orange\", \"Inglise laen\" = \"green\")\n",
    "            #teeme ühe suure tabeli, kus on aastad, eesti omasõna normitud arv, saksa laenu normitud arv ja inglise laenu normitud arv\n",
    "            graafikuks <- data.frame(koik_aastad, eesti, saksa, inglise) \n",
    "            #teeme ühe suure tabeli, kus on aastad, eesti omasõna arv, saksa laenu arv ja inglise laenu arv\n",
    "            tabeliks <- data.frame(koik_aastad, eesti_tava, saksa_tava, inglise_tava) \n",
    "            tabeliks[nrow(tabeliks) + 1,] = c(\"Summa\",sum(eesti_tava), sum(saksa_tava), sum(inglise_tava)) #lisame tabelisse veergude summad\n",
    "            #muudame tabelite veerunimesid\n",
    "            colnames(graafikuks) <- c('aasta',fn_eesti, fn_saksa, fn_inglise)\n",
    "            colnames(tabeliks) <- c('aasta',fn_eesti, fn_saksa, fn_inglise)\n",
    "            #kirjutame tabelid csv faili\n",
    "            write.csv(graafikuks, csv_nimi_norm_path, row.names = FALSE) \n",
    "            write.csv(tabeliks, csv_nimi_tava_path, row.names = FALSE) \n",
    "            #teeme normaliseeritud andmete põhjal graafiku\n",
    "            ggplot(graafikuks, aes(x=koik_aastad)) +\n",
    "                geom_line(aes(y=eesti, color=\"Eesti omasõna\"), alpha = 0.4, size = 0.3) +\n",
    "                geom_line(aes(y=saksa, color=\"Saksa laen\"), alpha = 0.4, size = 0.3) +\n",
    "                geom_line(aes(y=inglise, color=\"Inglise laen\"), alpha = 0.4, size = 0.3) +\n",
    "                labs( #muudame nimesid\n",
    "                    title = kaust_nimi,\n",
    "                    x = \"Aasta\",\n",
    "                    y = \"Mainimiste osakaal\",\n",
    "                    color = \"Legend\"\n",
    "                ) +\n",
    "                scale_color_manual(values = colors)\n",
    "                scale_x_continuous(breaks = c(1880, 1900, 1920, 1940, 1960, 1980, 2000, 2020)) #ütleme, mis vahemik x teljel peab olema\n",
    "            graafik_nimi <- paste(kaust_nimi, \"graafik.png\", sep=\"_\")\n",
    "            ggsave(graafik_nimi, path = \"graafikud\",width = 1200, height = 1200, units = \"px\") #salvestame graafiku png failina \n",
    "            }  \n",
    "        else if (length(saksa)== 0) { #kui saksa laenu ei ole\n",
    "            colors <- c(\"Eesti omasõna\" = \"blue\", \"Vene laen\" = \"red\", \"Inglise laen\" = \"green\")\n",
    "            #teeme ühe suure tabeli, kus on aastad, eesti omasõna normitud arv, vene laenu normitud arv ja inglise laenu normitud arv\n",
    "            graafikuks <- data.frame(koik_aastad, eesti, vene, inglise) \n",
    "            #teeme ühe suure tabeli, kus on aastad, eesti omasõna arv, vene laenu arv ja inglise laenu arv\n",
    "            tabeliks <- data.frame(koik_aastad, eesti_tava, vene_tava, inglise_tava) \n",
    "            tabeliks[nrow(tabeliks) + 1,] = c(\"Summa\",sum(eesti_tava), sum(vene_tava), sum(inglise_tava)) #lisame tabelisse veergude summad\n",
    "            #muudame tabelite veerunimesid\n",
    "            colnames(graafikuks) <- c('aasta',fn_eesti, fn_vene, fn_inglise)\n",
    "            colnames(tabeliks) <- c('aasta',fn_eesti, fn_vene, fn_inglise)\n",
    "            #kirjutame tabelid csv faili\n",
    "            write.csv(graafikuks, csv_nimi_norm_path, row.names = FALSE) \n",
    "            write.csv(tabeliks, csv_nimi_tava_path, row.names = FALSE) \n",
    "            #teeme normaliseeritud andmete põhjal graafiku\n",
    "            ggplot(graafikuks, aes(x=koik_aastad)) +\n",
    "                geom_line(aes(y=eesti, color=\"Eesti omasõna\"), alpha = 0.4, size = 0.3) +\n",
    "                geom_line(aes(y=vene, color=\"Vene laen\"), alpha = 0.4, size = 0.3) +\n",
    "                geom_line(aes(y=inglise, color=\"Inglise laen\"), alpha = 0.4, size = 0.3) +\n",
    "                labs( #muudame nimesid\n",
    "                    title = kaust_nimi,\n",
    "                    x = \"Aasta\",\n",
    "                    y = \"Mainimiste osakaal\",\n",
    "                    color = \"Legend\"\n",
    "                ) +\n",
    "                scale_color_manual(values = colors)\n",
    "                scale_x_continuous(breaks = c(1880, 1900, 1920, 1940, 1960, 1980, 2000, 2020)) #ütleme, mis vahemik x teljel peab olema\n",
    "            graafik_nimi <- paste(kaust_nimi, \"graafik.png\", sep=\"_\")\n",
    "            ggsave(graafik_nimi, path = \"graafikud\",width = 1200, height = 1200, units = \"px\") #salvestame graafiku png failina \n",
    "            }  \n",
    "        else if (length(inglise)== 0) { #kui inglise laenu ei ole\n",
    "            colors <- c(\"Eesti omasõna\" = \"blue\", \"Saksa laen\" = \"orange\", \"Vene laen\" = \"red\")\n",
    "            #teeme ühe suure tabeli, kus on aastad, eesti omasõna normitud arv, saksa laenu normitud arv ja vene laenu normitud arv\n",
    "            graafikuks <- data.frame(koik_aastad, eesti, saksa, vene) \n",
    "            #teeme ühe suure tabeli, kus on aastad, eesti omasõna arv, saksa laenu arv ja vene laenu arv\n",
    "            tabeliks <- data.frame(koik_aastad, eesti_tava, saksa_tava, vene_tava) \n",
    "            tabeliks[nrow(tabeliks) + 1,] = c(\"Summa\",sum(eesti_tava), sum(saksa_tava), sum(vene_tava)) #lisame tabelisse veergude summad\n",
    "            #muudame tabelite veerunimesid\n",
    "            colnames(graafikuks) <- c('aasta',fn_eesti, fn_saksa, fn_vene)\n",
    "            colnames(tabeliks) <- c('aasta',fn_eesti, fn_saksa, fn_vene)\n",
    "            #kirjutame tabelid csv faili\n",
    "            write.csv(graafikuks, csv_nimi_norm_path, row.names = FALSE) \n",
    "            write.csv(tabeliks, csv_nimi_tava_path, row.names = FALSE) \n",
    "            #teeme normaliseeritud andmete põhjal graafiku\n",
    "            ggplot(graafikuks, aes(x=koik_aastad)) +\n",
    "                geom_line(aes(y=eesti, color=\"Eesti omasõna\"), alpha = 0.4, size = 0.3) +\n",
    "                geom_line(aes(y=saksa, color=\"Saksa laen\"), alpha = 0.4, size = 0.3) +\n",
    "                geom_line(aes(y=vene, color=\"Vene laen\"), alpha = 0.4, size = 0.3) +\n",
    "                labs( #muudame nimesid\n",
    "                    title = kaust_nimi,\n",
    "                    x = \"Aasta\",\n",
    "                    y = \"Mainimiste osakaal\",\n",
    "                    color = \"Legend\"\n",
    "                ) +\n",
    "                scale_color_manual(values = colors)\n",
    "                scale_x_continuous(breaks = c(1880, 1900, 1920, 1940, 1960, 1980, 2000, 2020)) #ütleme, mis vahemik x teljel peab olema\n",
    "            graafik_nimi <- paste(kaust_nimi, \"graafik.png\", sep=\"_\")\n",
    "            ggsave(graafik_nimi, path = \"graafikud\",width = 1200, height = 1200, units = \"px\") #salvestame graafiku png failina \n",
    "            }\n",
    "        else { #kui kõik laenud on\n",
    "            colors <- c(\"Eesti omasõna\" = \"blue\", \"Saksa laen\" = \"orange\", \"Vene laen\" = \"red\", \"Inglise laen\" = \"green\")\n",
    "            #teeme ühe suure tabeli, kus on aastad, eesti omasõna normitud arv, saksa, vene ja inglise laenu normitud arv\n",
    "            graafikuks <- data.frame(koik_aastad, eesti, saksa, vene, inglise) \n",
    "            #teeme ühe suure tabeli, kus on aastad, eesti omasõna arv, saksa, vene ja inglise laenu arv\n",
    "            tabeliks <- data.frame(koik_aastad, eesti_tava, saksa_tava, vene_tava, inglise_tava) \n",
    "            tabeliks[nrow(tabeliks) + 1,] = c(\"Summa\",sum(eesti_tava), sum(saksa_tava), sum(vene_tava), sum(inglise_tava)) #lisame tabelisse veergude summad\n",
    "            #muudame tabelite veerunimesid\n",
    "            colnames(graafikuks) <- c('aasta',fn_eesti, fn_saksa, fn_vene, fn_inglise)\n",
    "            colnames(tabeliks) <- c('aasta',fn_eesti, fn_saksa, fn_vene, fn_inglise)\n",
    "            #kirjutame tabelid csv faili\n",
    "            write.csv(graafikuks, csv_nimi_norm_path, row.names = FALSE) \n",
    "            write.csv(tabeliks, csv_nimi_tava_path, row.names = FALSE) \n",
    "            #teeme normaliseeritud andmete põhjal graafiku\n",
    "            ggplot(graafikuks, aes(x=koik_aastad)) +\n",
    "                geom_line(aes(y=eesti, color=\"Eesti omasõna\"), alpha = 0.4, size = 0.3) +\n",
    "                geom_line(aes(y=saksa, color=\"Saksa laen\"), alpha = 0.4, size = 0.3) +\n",
    "                geom_line(aes(y=vene, color=\"Vene laen\"), alpha = 0.4, size = 0.3) +\n",
    "                geom_line(aes(y=inglise, color=\"Inglise laen\"), alpha = 0.4, size = 0.3) +\n",
    "                labs( #muudame nimesid\n",
    "                    title = kaust_nimi,\n",
    "                    x = \"Aasta\",\n",
    "                    y = \"Mainimiste osakaal\",\n",
    "                    color = \"Legend\"\n",
    "                ) +\n",
    "                scale_color_manual(values = colors)\n",
    "                scale_x_continuous(breaks = c(1880, 1900, 1920, 1940, 1960, 1980, 2000, 2020)) #ütleme, mis vahemik x teljel peab olema\n",
    "            graafik_nimi <- paste(kaust_nimi, \"graafik.png\", sep=\"_\")\n",
    "            ggsave(graafik_nimi, path = \"graafikud\",width = 1200, height = 1200, units = \"px\") #salvestame graafiku png failina \n",
    "            }\n",
    "        }\n",
    "    }"
   ]
  },
  {
   "cell_type": "code",
   "execution_count": 11,
   "id": "d6946c97",
   "metadata": {},
   "outputs": [
    {
     "name": "stderr",
     "output_type": "stream",
     "text": [
      "Warning message:\n",
      "“Removed 1 row(s) containing missing values (geom_path).”\n",
      "Warning message:\n",
      "“Removed 1 row(s) containing missing values (geom_path).”\n",
      "Warning message:\n",
      "“Removed 1 row(s) containing missing values (geom_path).”\n",
      "Warning message:\n",
      "“Removed 1 row(s) containing missing values (geom_path).”\n"
     ]
    },
    {
     "data": {
      "text/plain": [
       "<ScaleContinuousPosition>\n",
       " Range:  \n",
       " Limits:    0 --    1"
      ]
     },
     "metadata": {},
     "output_type": "display_data"
    },
    {
     "name": "stderr",
     "output_type": "stream",
     "text": [
      "Warning message:\n",
      "“Removed 1 row(s) containing missing values (geom_path).”\n",
      "Warning message:\n",
      "“Removed 1 row(s) containing missing values (geom_path).”\n",
      "Warning message:\n",
      "“Removed 1 row(s) containing missing values (geom_path).”\n",
      "Warning message:\n",
      "“Removed 1 row(s) containing missing values (geom_path).”\n"
     ]
    },
    {
     "data": {
      "image/png": "[encoded data removed]",
      "text/plain": [
       "plot without title"
      ]
     },
     "metadata": {
      "image/png": {
       "height": 420,
       "width": 420
      }
     },
     "output_type": "display_data"
    }
   ],
   "source": [
    "kokku_eesti <- c()\n",
    "kokku_vene <- c()\n",
    "kokku_saksa <- c()\n",
    "kokku_inglise <- c()\n",
    "kokku_eesti_norm <- c()\n",
    "kokku_vene_norm <- c()\n",
    "kokku_saksa_norm <- c()\n",
    "kokku_inglise_norm <- c()\n",
    "aastad_kokku_koik <- list(aastad_kokku_eesti, aastad_kokku_vene, aastad_kokku_saksa, aastad_kokku_inglise)\n",
    "\n",
    "i <- 0 #loendur\n",
    "j <- 0 #loendur listide jaoks\n",
    "for (jarjend in aastad_kokku_koik) {\n",
    "    j <- j+1 #loendur listide jaoks\n",
    "    i <- 0 #loendur\n",
    "    sonu_aastate_kaupa <- table(jarjend)\n",
    "    for (aasta in koik_aastad) { #üle kõigi aastate, millest korpuses üldse tekste on\n",
    "        i <- i+1 #lisame loendurile ühe\n",
    "        if (aasta %in% jarjend) { #kui sel aastal on ka mainitud meie uuritavat sõna\n",
    "            mitu_mainimist <- sonu_aastate_kaupa[[as.character(aasta)]] #leiab, mitu korda seda sõna sel aastal mainiti\n",
    "            sonu_aastas <- wordcounts[[2]][[i]] #mitu sõna ühe aasta tekstide peale kokku oli\n",
    "            #jagame selle aasta sõna mainimise arvu selle aasta kollektiivsete sõnade arvuga ja korrutame konstandiga, et tulemus oleks loetavam\n",
    "            norm <- (mitu_mainimist/sonu_aastas)*10000000 \n",
    "            if (j == 1) { #kui eesti omasona\n",
    "                kokku_eesti_norm<- append(kokku_eesti_norm, norm) #lisab selle aasta normitud sõna mainimiste arvu listi\n",
    "                kokku_eesti <- append(kokku_eesti, mitu_mainimist) #lisab selle aasta sõna mainimiste arvu listi\n",
    "                }\n",
    "            if (j == 2) { #kui vene laen\n",
    "                kokku_vene_norm <- append(kokku_vene_norm, norm) #lisab selle aasta normitud sõna mainimiste arvu listi\n",
    "                kokku_vene <- append(kokku_vene, mitu_mainimist) #lisab selle aasta sõna mainimiste arvu listi\n",
    "                }\n",
    "            if (j == 3) { #kui saksa laen\n",
    "                kokku_saksa_norm <- append(kokku_saksa_norm, norm) #lisab selle aasta normitud sõna mainimiste arvu listi\n",
    "                kokku_saksa <- append(kokku_saksa, mitu_mainimist) #lisab selle aasta sõna mainimiste arvu listi\n",
    "                }\n",
    "            if (j == 4) { #kui inglise laen\n",
    "                kokku_inglise_norm <- append(kokku_inglise_norm, norm) #lisab selle aasta normitud sõna mainimiste arvu listi\n",
    "                kokku_inglise <- append(kokku_inglise, mitu_mainimist) #lisab selle aasta sõna mainimiste arvu listi\n",
    "                }\n",
    "            }\n",
    "        else { #kui sel aastal polnud ühtegi sõna mainimist\n",
    "            if (j == 1) { #kui eesti omasona\n",
    "                kokku_eesti_norm<- append(kokku_eesti_norm, 0) #lisab selle aasta normitud sõna mainimiste arvu listi\n",
    "                kokku_eesti <- append(kokku_eesti, 0) #lisab selle aasta sõna mainimiste arvu listi\n",
    "                }\n",
    "            if (j == 2) { #kui vene laen\n",
    "                kokku_vene_norm <- append(kokku_vene_norm, 0) #lisab selle aasta normitud sõna mainimiste arvu listi\n",
    "                kokku_vene <- append(kokku_vene, 0) #lisab selle aasta sõna mainimiste arvu listi\n",
    "                }\n",
    "            if (j == 3) { #kui saksa laen\n",
    "                kokku_saksa_norm <- append(kokku_saksa_norm, 0) #lisab selle aasta normitud sõna mainimiste arvu listi\n",
    "                kokku_saksa <- append(kokku_saksa, 0) #lisab selle aasta sõna mainimiste arvu listi\n",
    "                }\n",
    "            if (j == 4) { #kui inglise laen\n",
    "                kokku_inglise_norm <- append(kokku_inglise_norm, 0) #lisab selle aasta normitud sõna mainimiste arvu listi\n",
    "                kokku_inglise <- append(kokku_inglise, 0) #lisab selle aasta sõna mainimiste arvu listi\n",
    "                }\n",
    "            }\n",
    "        }\n",
    "    }\n",
    "colors <- c(\"Eesti omasõna\" = \"blue\", \"Saksa laen\" = \"orange\", \"Vene laen\" = \"red\", \"Inglise laen\" = \"green\")\n",
    "#teeme ühe suure tabeli, kus on aastad, eesti omasõna ja vene, saksa ning inglise laenude normitud arv\n",
    "graafikuks <- data.frame(koik_aastad, kokku_eesti_norm, kokku_vene_norm, kokku_saksa_norm, kokku_inglise_norm) \n",
    "#teeme ühe suure tabeli, kus on aastad, eesti omasõna ja vene, saksa ning inglise laenude arv\n",
    "tabeliks <- data.frame(koik_aastad, kokku_eesti, kokku_vene, kokku_saksa, kokku_inglise) \n",
    "tabeliks[nrow(tabeliks) + 1,] = c(\"Summa\",sum(kokku_eesti), sum(kokku_vene), sum(kokku_saksa), sum(kokku_inglise)) #lisame tabelisse veergude summad\n",
    "#kirjutame tabeli csv faili\n",
    "write.csv(graafikuks, \"kokku_normaliseeritud_tabel.csv\", row.names = FALSE) \n",
    "write.csv(tabeliks, \"kokku_tabel.csv\", row.names = FALSE) \n",
    "#teeme normaliseeritud andmete põhjal graafiku\n",
    "ggplot(graafikuks, aes(x=koik_aastad)) +\n",
    "    geom_line(aes(y=kokku_eesti_norm, color=\"Eesti omasõna\"), alpha = 0.4, size = 0.3) +\n",
    "    geom_line(aes(y=kokku_vene_norm, color=\"Vene laen\"), alpha = 0.4, size = 0.3) +\n",
    "    geom_line(aes(y=kokku_saksa_norm, color=\"Saksa laen\"), alpha = 0.4, size = 0.3) +\n",
    "    geom_line(aes(y=kokku_inglise_norm, color=\"Inglise laen\"), alpha = 0.4, size = 0.3) +\n",
    "    labs( #muudame nimesid\n",
    "        title = \"Oma- ja laensõnade kasutamine\",\n",
    "        x = \"Aasta\",\n",
    "        y = \"Mainimiste osakaal\",\n",
    "        color = \"Legend\"\n",
    "        ) +\n",
    "    scale_color_manual(values = colors)\n",
    "    scale_x_continuous(breaks = c(1880, 1900, 1920, 1940, 1960, 1980, 2000, 2020)) #ütleme, mis vahemik x teljel peab olema\n",
    "ggsave(\"kokku_normaliseeritud_graafik.png\", width = 1200, height = 1200, units = \"px\") #salvestame graafiku png failina"
   ]
  }
 ],
 "metadata": {
  "kernelspec": {
   "display_name": "R 4.1.2",
   "language": "R",
   "name": "ir4-1"
  },
  "language_info": {
   "codemirror_mode": "r",
   "file_extension": ".r",
   "mimetype": "text/x-r-source",
   "name": "R",
   "pygments_lexer": "r",
   "version": "4.1.2"
  }
 },
 "nbformat": 4,
 "nbformat_minor": 5
}
